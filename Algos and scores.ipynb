{
 "cells": [
  {
   "cell_type": "code",
   "execution_count": 2,
   "id": "86fc7966",
   "metadata": {},
   "outputs": [],
   "source": [
    "#sklearn\n",
    "from sklearn.model_selection import train_test_split\n",
    "from sklearn.model_selection import cross_val_score\n",
    "from sklearn.metrics import mean_squared_error,confusion_matrix, precision_score, recall_score, auc,roc_curve\n",
    "from sklearn import ensemble, linear_model, neighbors, svm, tree, neural_network\n",
    "from sklearn.pipeline import make_pipeline\n",
    "from sklearn.linear_model import Ridge\n",
    "from sklearn.preprocessing import PolynomialFeatures, StandardScaler\n",
    "from sklearn import svm,model_selection, tree, linear_model, neighbors, naive_bayes, ensemble, discriminant_analysis, gaussian_process\n",
    "\n",
    "from sklearn.linear_model import LogisticRegression\n",
    "from sklearn.neighbors import KNeighborsClassifier\n",
    "from sklearn.svm import SVC\n",
    "from sklearn.tree import DecisionTreeClassifier\n",
    "from sklearn.ensemble import RandomForestClassifier, GradientBoostingClassifier, AdaBoostClassifier\n",
    "from sklearn.naive_bayes import GaussianNB\n",
    "\n",
    "from sklearn.linear_model import LogisticRegression\n",
    "from sklearn.svm import SVC\n",
    "from sklearn.ensemble import RandomForestClassifier\n",
    "from sklearn.metrics import accuracy_score,f1_score\n",
    "\n",
    "#load package\n",
    "import pandas as pd\n",
    "import numpy as np\n",
    "import matplotlib.pyplot as plt\n",
    "#from math import sqrt\n",
    "import seaborn as sns\n",
    "\n",
    "import warnings\n",
    "warnings.filterwarnings('ignore')"
   ]
  },
  {
   "cell_type": "markdown",
   "id": "f3ce33f0",
   "metadata": {},
   "source": [
    "## 1. Data Preprocessing"
   ]
  },
  {
   "cell_type": "markdown",
   "id": "b7d39885",
   "metadata": {},
   "source": [
    "### •\tLoad the dataset: Start by loading the Titanic dataset into your environment."
   ]
  },
  {
   "cell_type": "code",
   "execution_count": null,
   "id": "20d4f2fd",
   "metadata": {},
   "outputs": [],
   "source": [
    "# Correct path as per your system\n",
    "file_path = 'Titanic-Dataset.csv'\n",
    "data = pd.read_csv(file_path)"
   ]
  },
  {
   "cell_type": "code",
   "execution_count": null,
   "id": "d1967a9d",
   "metadata": {},
   "outputs": [
    {
     "data": {
      "text/html": [
       "<div>\n",
       "<style scoped>\n",
       "    .dataframe tbody tr th:only-of-type {\n",
       "        vertical-align: middle;\n",
       "    }\n",
       "\n",
       "    .dataframe tbody tr th {\n",
       "        vertical-align: top;\n",
       "    }\n",
       "\n",
       "    .dataframe thead th {\n",
       "        text-align: right;\n",
       "    }\n",
       "</style>\n",
       "<table border=\"1\" class=\"dataframe\">\n",
       "  <thead>\n",
       "    <tr style=\"text-align: right;\">\n",
       "      <th></th>\n",
       "      <th>PassengerId</th>\n",
       "      <th>Survived</th>\n",
       "      <th>Pclass</th>\n",
       "      <th>Name</th>\n",
       "      <th>Sex</th>\n",
       "      <th>Age</th>\n",
       "      <th>SibSp</th>\n",
       "      <th>Parch</th>\n",
       "      <th>Ticket</th>\n",
       "      <th>Fare</th>\n",
       "      <th>Cabin</th>\n",
       "      <th>Embarked</th>\n",
       "    </tr>\n",
       "  </thead>\n",
       "  <tbody>\n",
       "    <tr>\n",
       "      <th>0</th>\n",
       "      <td>1</td>\n",
       "      <td>0</td>\n",
       "      <td>3</td>\n",
       "      <td>Braund, Mr. Owen Harris</td>\n",
       "      <td>male</td>\n",
       "      <td>22.0</td>\n",
       "      <td>1</td>\n",
       "      <td>0</td>\n",
       "      <td>A/5 21171</td>\n",
       "      <td>7.2500</td>\n",
       "      <td>NaN</td>\n",
       "      <td>S</td>\n",
       "    </tr>\n",
       "    <tr>\n",
       "      <th>1</th>\n",
       "      <td>2</td>\n",
       "      <td>1</td>\n",
       "      <td>1</td>\n",
       "      <td>Cumings, Mrs. John Bradley (Florence Briggs Th...</td>\n",
       "      <td>female</td>\n",
       "      <td>38.0</td>\n",
       "      <td>1</td>\n",
       "      <td>0</td>\n",
       "      <td>PC 17599</td>\n",
       "      <td>71.2833</td>\n",
       "      <td>C85</td>\n",
       "      <td>C</td>\n",
       "    </tr>\n",
       "    <tr>\n",
       "      <th>2</th>\n",
       "      <td>3</td>\n",
       "      <td>1</td>\n",
       "      <td>3</td>\n",
       "      <td>Heikkinen, Miss. Laina</td>\n",
       "      <td>female</td>\n",
       "      <td>26.0</td>\n",
       "      <td>0</td>\n",
       "      <td>0</td>\n",
       "      <td>STON/O2. 3101282</td>\n",
       "      <td>7.9250</td>\n",
       "      <td>NaN</td>\n",
       "      <td>S</td>\n",
       "    </tr>\n",
       "    <tr>\n",
       "      <th>3</th>\n",
       "      <td>4</td>\n",
       "      <td>1</td>\n",
       "      <td>1</td>\n",
       "      <td>Futrelle, Mrs. Jacques Heath (Lily May Peel)</td>\n",
       "      <td>female</td>\n",
       "      <td>35.0</td>\n",
       "      <td>1</td>\n",
       "      <td>0</td>\n",
       "      <td>113803</td>\n",
       "      <td>53.1000</td>\n",
       "      <td>C123</td>\n",
       "      <td>S</td>\n",
       "    </tr>\n",
       "    <tr>\n",
       "      <th>4</th>\n",
       "      <td>5</td>\n",
       "      <td>0</td>\n",
       "      <td>3</td>\n",
       "      <td>Allen, Mr. William Henry</td>\n",
       "      <td>male</td>\n",
       "      <td>35.0</td>\n",
       "      <td>0</td>\n",
       "      <td>0</td>\n",
       "      <td>373450</td>\n",
       "      <td>8.0500</td>\n",
       "      <td>NaN</td>\n",
       "      <td>S</td>\n",
       "    </tr>\n",
       "  </tbody>\n",
       "</table>\n",
       "</div>"
      ],
      "text/plain": [
       "   PassengerId  Survived  Pclass  \\\n",
       "0            1         0       3   \n",
       "1            2         1       1   \n",
       "2            3         1       3   \n",
       "3            4         1       1   \n",
       "4            5         0       3   \n",
       "\n",
       "                                                Name     Sex   Age  SibSp  \\\n",
       "0                            Braund, Mr. Owen Harris    male  22.0      1   \n",
       "1  Cumings, Mrs. John Bradley (Florence Briggs Th...  female  38.0      1   \n",
       "2                             Heikkinen, Miss. Laina  female  26.0      0   \n",
       "3       Futrelle, Mrs. Jacques Heath (Lily May Peel)  female  35.0      1   \n",
       "4                           Allen, Mr. William Henry    male  35.0      0   \n",
       "\n",
       "   Parch            Ticket     Fare Cabin Embarked  \n",
       "0      0         A/5 21171   7.2500   NaN        S  \n",
       "1      0          PC 17599  71.2833   C85        C  \n",
       "2      0  STON/O2. 3101282   7.9250   NaN        S  \n",
       "3      0            113803  53.1000  C123        S  \n",
       "4      0            373450   8.0500   NaN        S  "
      ]
     },
     "execution_count": 4,
     "metadata": {},
     "output_type": "execute_result"
    }
   ],
   "source": [
    "data.head()"
   ]
  },
  {
   "cell_type": "markdown",
   "id": "dca18bc8",
   "metadata": {},
   "source": [
    "### •\tHandling missing values: Identify missing values in columns like Age, Cabin, and Embarked. "
   ]
  },
  {
   "cell_type": "code",
   "execution_count": null,
   "id": "566e99bd",
   "metadata": {},
   "outputs": [
    {
     "name": "stdout",
     "output_type": "stream",
     "text": [
      "PassengerId    False\n",
      "Survived       False\n",
      "Pclass         False\n",
      "Name           False\n",
      "Sex            False\n",
      "Age             True\n",
      "SibSp          False\n",
      "Parch          False\n",
      "Ticket         False\n",
      "Fare           False\n",
      "Cabin           True\n",
      "Embarked        True\n",
      "dtype: bool\n"
     ]
    }
   ],
   "source": [
    "print(data.isnull().any())"
   ]
  },
  {
   "cell_type": "code",
   "execution_count": null,
   "id": "de4395d5",
   "metadata": {},
   "outputs": [],
   "source": [
    "data['Age'].fillna(data['Age'].median(), inplace=True)"
   ]
  },
  {
   "cell_type": "code",
   "execution_count": null,
   "id": "b49a8910",
   "metadata": {},
   "outputs": [],
   "source": [
    "data['Embarked'].fillna(data['Embarked'].mode()[0], inplace=True)"
   ]
  },
  {
   "cell_type": "code",
   "execution_count": null,
   "id": "a19c6553",
   "metadata": {},
   "outputs": [],
   "source": [
    "data.drop(['Name','Ticket'], axis=1, inplace=True)"
   ]
  },
  {
   "cell_type": "code",
   "execution_count": null,
   "id": "fca26533",
   "metadata": {},
   "outputs": [
    {
     "name": "stdout",
     "output_type": "stream",
     "text": [
      "PassengerId    False\n",
      "Survived       False\n",
      "Pclass         False\n",
      "Name           False\n",
      "Sex            False\n",
      "Age            False\n",
      "SibSp          False\n",
      "Parch          False\n",
      "Ticket         False\n",
      "Fare           False\n",
      "Embarked       False\n",
      "dtype: bool\n"
     ]
    }
   ],
   "source": [
    "print(data.isnull().any())"
   ]
  },
  {
   "cell_type": "markdown",
   "id": "71b765b5",
   "metadata": {},
   "source": [
    "### Missing values have been fixed"
   ]
  },
  {
   "cell_type": "markdown",
   "id": "db525621",
   "metadata": {},
   "source": [
    "### •\tEncoding categorical variables: Convert categorical variables like Sex and Embarked into numerical form through one-hot encoding or label encoding."
   ]
  },
  {
   "cell_type": "code",
   "execution_count": null,
   "id": "48ac66af",
   "metadata": {},
   "outputs": [],
   "source": [
    "data = pd.get_dummies(data, columns=['Sex', 'Embarked'], drop_first=True)"
   ]
  },
  {
   "cell_type": "code",
   "execution_count": null,
   "id": "f898c870",
   "metadata": {},
   "outputs": [
    {
     "data": {
      "text/html": [
       "<div>\n",
       "<style scoped>\n",
       "    .dataframe tbody tr th:only-of-type {\n",
       "        vertical-align: middle;\n",
       "    }\n",
       "\n",
       "    .dataframe tbody tr th {\n",
       "        vertical-align: top;\n",
       "    }\n",
       "\n",
       "    .dataframe thead th {\n",
       "        text-align: right;\n",
       "    }\n",
       "</style>\n",
       "<table border=\"1\" class=\"dataframe\">\n",
       "  <thead>\n",
       "    <tr style=\"text-align: right;\">\n",
       "      <th></th>\n",
       "      <th>PassengerId</th>\n",
       "      <th>Survived</th>\n",
       "      <th>Pclass</th>\n",
       "      <th>Age</th>\n",
       "      <th>SibSp</th>\n",
       "      <th>Parch</th>\n",
       "      <th>Fare</th>\n",
       "      <th>Sex_male</th>\n",
       "      <th>Embarked_Q</th>\n",
       "      <th>Embarked_S</th>\n",
       "    </tr>\n",
       "  </thead>\n",
       "  <tbody>\n",
       "    <tr>\n",
       "      <th>0</th>\n",
       "      <td>1</td>\n",
       "      <td>0</td>\n",
       "      <td>3</td>\n",
       "      <td>-0.565736</td>\n",
       "      <td>1</td>\n",
       "      <td>0</td>\n",
       "      <td>-0.502445</td>\n",
       "      <td>True</td>\n",
       "      <td>False</td>\n",
       "      <td>True</td>\n",
       "    </tr>\n",
       "    <tr>\n",
       "      <th>1</th>\n",
       "      <td>2</td>\n",
       "      <td>1</td>\n",
       "      <td>1</td>\n",
       "      <td>0.663861</td>\n",
       "      <td>1</td>\n",
       "      <td>0</td>\n",
       "      <td>0.786845</td>\n",
       "      <td>False</td>\n",
       "      <td>False</td>\n",
       "      <td>False</td>\n",
       "    </tr>\n",
       "    <tr>\n",
       "      <th>2</th>\n",
       "      <td>3</td>\n",
       "      <td>1</td>\n",
       "      <td>3</td>\n",
       "      <td>-0.258337</td>\n",
       "      <td>0</td>\n",
       "      <td>0</td>\n",
       "      <td>-0.488854</td>\n",
       "      <td>False</td>\n",
       "      <td>False</td>\n",
       "      <td>True</td>\n",
       "    </tr>\n",
       "    <tr>\n",
       "      <th>3</th>\n",
       "      <td>4</td>\n",
       "      <td>1</td>\n",
       "      <td>1</td>\n",
       "      <td>0.433312</td>\n",
       "      <td>1</td>\n",
       "      <td>0</td>\n",
       "      <td>0.420730</td>\n",
       "      <td>False</td>\n",
       "      <td>False</td>\n",
       "      <td>True</td>\n",
       "    </tr>\n",
       "    <tr>\n",
       "      <th>4</th>\n",
       "      <td>5</td>\n",
       "      <td>0</td>\n",
       "      <td>3</td>\n",
       "      <td>0.433312</td>\n",
       "      <td>0</td>\n",
       "      <td>0</td>\n",
       "      <td>-0.486337</td>\n",
       "      <td>True</td>\n",
       "      <td>False</td>\n",
       "      <td>True</td>\n",
       "    </tr>\n",
       "  </tbody>\n",
       "</table>\n",
       "</div>"
      ],
      "text/plain": [
       "   PassengerId  Survived  Pclass       Age  SibSp  Parch      Fare  Sex_male  \\\n",
       "0            1         0       3 -0.565736      1      0 -0.502445      True   \n",
       "1            2         1       1  0.663861      1      0  0.786845     False   \n",
       "2            3         1       3 -0.258337      0      0 -0.488854     False   \n",
       "3            4         1       1  0.433312      1      0  0.420730     False   \n",
       "4            5         0       3  0.433312      0      0 -0.486337      True   \n",
       "\n",
       "   Embarked_Q  Embarked_S  \n",
       "0       False        True  \n",
       "1       False       False  \n",
       "2       False        True  \n",
       "3       False        True  \n",
       "4       False        True  "
      ]
     },
     "execution_count": 25,
     "metadata": {},
     "output_type": "execute_result"
    }
   ],
   "source": [
    "data.head() # the sex and embarqed columns have been converted into numerical data"
   ]
  },
  {
   "cell_type": "markdown",
   "id": "ba1e7abc",
   "metadata": {},
   "source": [
    "### •\tNormalizing or standardizing numerical variables: Apply normalization or standardization to numerical variables such as Age and Fare to ensure they're on the same scale, especially important for models like KNN and SVM."
   ]
  },
  {
   "cell_type": "code",
   "execution_count": null,
   "id": "a11effc6",
   "metadata": {},
   "outputs": [],
   "source": [
    "scaler = StandardScaler()\n",
    "data[['Age', 'Fare']] = scaler.fit_transform(data[['Age', 'Fare']])"
   ]
  },
  {
   "cell_type": "code",
   "execution_count": null,
   "id": "f70e1e29",
   "metadata": {},
   "outputs": [
    {
     "data": {
      "text/html": [
       "<div>\n",
       "<style scoped>\n",
       "    .dataframe tbody tr th:only-of-type {\n",
       "        vertical-align: middle;\n",
       "    }\n",
       "\n",
       "    .dataframe tbody tr th {\n",
       "        vertical-align: top;\n",
       "    }\n",
       "\n",
       "    .dataframe thead th {\n",
       "        text-align: right;\n",
       "    }\n",
       "</style>\n",
       "<table border=\"1\" class=\"dataframe\">\n",
       "  <thead>\n",
       "    <tr style=\"text-align: right;\">\n",
       "      <th></th>\n",
       "      <th>PassengerId</th>\n",
       "      <th>Survived</th>\n",
       "      <th>Pclass</th>\n",
       "      <th>Age</th>\n",
       "      <th>SibSp</th>\n",
       "      <th>Parch</th>\n",
       "      <th>Fare</th>\n",
       "      <th>Sex_male</th>\n",
       "      <th>Embarked_Q</th>\n",
       "      <th>Embarked_S</th>\n",
       "    </tr>\n",
       "  </thead>\n",
       "  <tbody>\n",
       "    <tr>\n",
       "      <th>0</th>\n",
       "      <td>1</td>\n",
       "      <td>0</td>\n",
       "      <td>3</td>\n",
       "      <td>-0.565736</td>\n",
       "      <td>1</td>\n",
       "      <td>0</td>\n",
       "      <td>-0.502445</td>\n",
       "      <td>True</td>\n",
       "      <td>False</td>\n",
       "      <td>True</td>\n",
       "    </tr>\n",
       "    <tr>\n",
       "      <th>1</th>\n",
       "      <td>2</td>\n",
       "      <td>1</td>\n",
       "      <td>1</td>\n",
       "      <td>0.663861</td>\n",
       "      <td>1</td>\n",
       "      <td>0</td>\n",
       "      <td>0.786845</td>\n",
       "      <td>False</td>\n",
       "      <td>False</td>\n",
       "      <td>False</td>\n",
       "    </tr>\n",
       "    <tr>\n",
       "      <th>2</th>\n",
       "      <td>3</td>\n",
       "      <td>1</td>\n",
       "      <td>3</td>\n",
       "      <td>-0.258337</td>\n",
       "      <td>0</td>\n",
       "      <td>0</td>\n",
       "      <td>-0.488854</td>\n",
       "      <td>False</td>\n",
       "      <td>False</td>\n",
       "      <td>True</td>\n",
       "    </tr>\n",
       "    <tr>\n",
       "      <th>3</th>\n",
       "      <td>4</td>\n",
       "      <td>1</td>\n",
       "      <td>1</td>\n",
       "      <td>0.433312</td>\n",
       "      <td>1</td>\n",
       "      <td>0</td>\n",
       "      <td>0.420730</td>\n",
       "      <td>False</td>\n",
       "      <td>False</td>\n",
       "      <td>True</td>\n",
       "    </tr>\n",
       "    <tr>\n",
       "      <th>4</th>\n",
       "      <td>5</td>\n",
       "      <td>0</td>\n",
       "      <td>3</td>\n",
       "      <td>0.433312</td>\n",
       "      <td>0</td>\n",
       "      <td>0</td>\n",
       "      <td>-0.486337</td>\n",
       "      <td>True</td>\n",
       "      <td>False</td>\n",
       "      <td>True</td>\n",
       "    </tr>\n",
       "  </tbody>\n",
       "</table>\n",
       "</div>"
      ],
      "text/plain": [
       "   PassengerId  Survived  Pclass       Age  SibSp  Parch      Fare  Sex_male  \\\n",
       "0            1         0       3 -0.565736      1      0 -0.502445      True   \n",
       "1            2         1       1  0.663861      1      0  0.786845     False   \n",
       "2            3         1       3 -0.258337      0      0 -0.488854     False   \n",
       "3            4         1       1  0.433312      1      0  0.420730     False   \n",
       "4            5         0       3  0.433312      0      0 -0.486337      True   \n",
       "\n",
       "   Embarked_Q  Embarked_S  \n",
       "0       False        True  \n",
       "1       False       False  \n",
       "2       False        True  \n",
       "3       False        True  \n",
       "4       False        True  "
      ]
     },
     "execution_count": 34,
     "metadata": {},
     "output_type": "execute_result"
    }
   ],
   "source": [
    "data.head()\n"
   ]
  },
  {
   "cell_type": "markdown",
   "id": "07ad7c59",
   "metadata": {},
   "source": [
    "### •\tSplitting the dataset: Divide the dataset into training and testing sets, typically using a 70-30 or 80-20 train-test split ratio."
   ]
  },
  {
   "cell_type": "code",
   "execution_count": null,
   "id": "78d66c8d",
   "metadata": {},
   "outputs": [],
   "source": [
    "X = data.drop(columns=['Survived'])  # Features\n",
    "y = data['Survived']  # Target variable"
   ]
  },
  {
   "cell_type": "code",
   "execution_count": null,
   "id": "d03b21b3",
   "metadata": {},
   "outputs": [],
   "source": [
    "#80-20 split\n",
    "X_train, X_test, y_train, y_test = train_test_split(X, y, test_size=0.2, random_state=42)"
   ]
  },
  {
   "cell_type": "markdown",
   "id": "9e257df4",
   "metadata": {},
   "source": [
    "## 2. Model Implementation and  3. Model Evaluation(All using a For Loop)"
   ]
  },
  {
   "cell_type": "markdown",
   "id": "d0168b83",
   "metadata": {},
   "source": [
    "### •\tTrain each model on the training dataset.\n",
    "### •\tPredict outcomes on the testing dataset using each trained model.\n",
    "### •\tCompute the accuracy of each model, along with precision, recall, and F1-score.\n",
    "### •\tConfusion matrices: Optionally"
   ]
  },
  {
   "cell_type": "markdown",
   "id": "1ade7f0c",
   "metadata": {},
   "source": [
    "## • Logistic Regression"
   ]
  },
  {
   "cell_type": "code",
   "execution_count": null,
   "id": "c4a3d0e6",
   "metadata": {},
   "outputs": [
    {
     "name": "stdout",
     "output_type": "stream",
     "text": [
      "Logistic Regression - Accuracy: 0.7932960893854749\n",
      "Logistic Regression - Precision: 0.7846153846153846\n",
      "Logistic Regression - Recall: 0.6891891891891891\n",
      "Logistic Regression - F1-score: 0.7338129496402878\n"
     ]
    }
   ],
   "source": [
    "llog_reg = LogisticRegression()\n",
    "log_reg.fit(X_train, y_train)\n",
    "log_reg_pred = log_reg.predict(X_test)\n",
    "\n",
    "accuracy = accuracy_score(y_test, log_reg_pred)\n",
    "precision = precision_score(y_test, log_reg_pred)\n",
    "recall = recall_score(y_test, log_reg_pred)\n",
    "f1 = f1_score(y_test, log_reg_pred)\n",
    "\n",
    "print('Logistic Regression - Accuracy:', accuracy)\n",
    "print('Logistic Regression - Precision:', precision)\n",
    "print('Logistic Regression - Recall:', recall)\n",
    "print('Logistic Regression - F1-score:', f1)"
   ]
  },
  {
   "cell_type": "markdown",
   "id": "94ce3d31",
   "metadata": {},
   "source": [
    "## •\tK-Nearest Neighbors (KNN)"
   ]
  },
  {
   "cell_type": "code",
   "execution_count": null,
   "id": "f8a7f7ab",
   "metadata": {},
   "outputs": [
    {
     "name": "stdout",
     "output_type": "stream",
     "text": [
      "KNN - Accuracy: 0.5642458100558659\n",
      "KNN - Precision: 0.4583333333333333\n",
      "KNN - Recall: 0.2972972972972973\n",
      "KNN - F1-score: 0.36065573770491804\n"
     ]
    }
   ],
   "source": [
    "knn = KNeighborsClassifier()\n",
    "knn.fit(X_train, y_train)\n",
    "knn_pred = knn.predict(X_test)\n",
    "\n",
    "accuracy = accuracy_score(y_test, knn_pred)\n",
    "precision = precision_score(y_test, knn_pred)\n",
    "recall = recall_score(y_test, knn_pred)\n",
    "f1 = f1_score(y_test, knn_pred)\n",
    "\n",
    "print('KNN - Accuracy:', accuracy)\n",
    "print('KNN - Precision:', precision)\n",
    "print('KNN - Recall:', recall)\n",
    "print('KNN - F1-score:', f1)"
   ]
  },
  {
   "cell_type": "markdown",
   "id": "9b46acd4",
   "metadata": {},
   "source": [
    "## •\tSupport Vector Machine (SVM)"
   ]
  },
  {
   "cell_type": "code",
   "execution_count": null,
   "id": "967651e0",
   "metadata": {},
   "outputs": [
    {
     "name": "stdout",
     "output_type": "stream",
     "text": [
      "SVM - Accuracy: 0.5865921787709497\n",
      "SVM - Precision: 0.0\n",
      "SVM - Recall: 0.0\n",
      "SVM - F1-score: 0.0\n"
     ]
    }
   ],
   "source": [
    "svc = SVC()\n",
    "svc.fit(X_train, y_train)\n",
    "svc_pred = svc.predict(X_test)\n",
    "\n",
    "accuracy = accuracy_score(y_test, svc_pred)\n",
    "precision = precision_score(y_test, svc_pred)\n",
    "recall = recall_score(y_test, svc_pred)\n",
    "f1 = f1_score(y_test, svc_pred)\n",
    "\n",
    "print('SVM - Accuracy:', accuracy)\n",
    "print('SVM - Precision:', precision)\n",
    "print('SVM - Recall:', recall)\n",
    "print('SVM - F1-score:', f1)"
   ]
  },
  {
   "cell_type": "markdown",
   "id": "05447cfc",
   "metadata": {},
   "source": [
    "## •\tDecision Tree"
   ]
  },
  {
   "cell_type": "code",
   "execution_count": null,
   "id": "604861a1",
   "metadata": {},
   "outputs": [
    {
     "name": "stdout",
     "output_type": "stream",
     "text": [
      "Decision Tree - Accuracy: 0.7039106145251397\n",
      "Decision Tree - Precision: 0.6363636363636364\n",
      "Decision Tree - Recall: 0.6621621621621622\n",
      "Decision Tree - F1-score: 0.6490066225165563\n"
     ]
    }
   ],
   "source": [
    "decision_tree = DecisionTreeClassifier()\n",
    "decision_tree.fit(X_train, y_train)\n",
    "decision_tree_pred = decision_tree.predict(X_test)\n",
    "\n",
    "accuracy = accuracy_score(y_test, decision_tree_pred)\n",
    "precision = precision_score(y_test, decision_tree_pred)\n",
    "recall = recall_score(y_test, decision_tree_pred)\n",
    "f1 = f1_score(y_test, decision_tree_pred)\n",
    "\n",
    "print('Decision Tree - Accuracy:', accuracy)\n",
    "print('Decision Tree - Precision:', precision)\n",
    "print('Decision Tree - Recall:', recall)\n",
    "print('Decision Tree - F1-score:', f1)"
   ]
  },
  {
   "cell_type": "markdown",
   "id": "667df603",
   "metadata": {},
   "source": [
    "## •\tRandom Forest"
   ]
  },
  {
   "cell_type": "code",
   "execution_count": null,
   "id": "3a783ee3",
   "metadata": {},
   "outputs": [
    {
     "name": "stdout",
     "output_type": "stream",
     "text": [
      "Random Forest - Accuracy: 0.8212290502793296\n",
      "Random Forest - Precision: 0.7916666666666666\n",
      "Random Forest - Recall: 0.7702702702702703\n",
      "Random Forest - F1-score: 0.7808219178082192\n"
     ]
    }
   ],
   "source": [
    "random_forest = RandomForestClassifier()\n",
    "random_forest.fit(X_train, y_train)\n",
    "random_forest_pred = random_forest.predict(X_test)\n",
    "\n",
    "accuracy = accuracy_score(y_test, random_forest_pred)\n",
    "precision = precision_score(y_test, random_forest_pred)\n",
    "recall = recall_score(y_test, random_forest_pred)\n",
    "f1 = f1_score(y_test, random_forest_pred)\n",
    "\n",
    "print('Random Forest - Accuracy:', accuracy)\n",
    "print('Random Forest - Precision:', precision)\n",
    "print('Random Forest - Recall:', recall)\n",
    "print('Random Forest - F1-score:', f1)"
   ]
  },
  {
   "cell_type": "markdown",
   "id": "a2cddb2a",
   "metadata": {},
   "source": [
    "## •\tGradient Boosting Machines (GBM)"
   ]
  },
  {
   "cell_type": "code",
   "execution_count": null,
   "id": "f743f9b1",
   "metadata": {},
   "outputs": [
    {
     "name": "stdout",
     "output_type": "stream",
     "text": [
      "GBM - Accuracy: 0.8212290502793296\n",
      "GBM - Precision: 0.8181818181818182\n",
      "GBM - Recall: 0.7297297297297297\n",
      "GBM - F1-score: 0.7714285714285715\n"
     ]
    }
   ],
   "source": [
    "gbm = GradientBoostingClassifier()\n",
    "gbm.fit(X_train, y_train)\n",
    "gbm_pred = gbm.predict(X_test)\n",
    "\n",
    "accuracy = accuracy_score(y_test, gbm_pred)\n",
    "precision = precision_score(y_test, gbm_pred)\n",
    "recall = recall_score(y_test, gbm_pred)\n",
    "f1 = f1_score(y_test, gbm_pred)\n",
    "\n",
    "print('GBM - Accuracy:', accuracy)\n",
    "print('GBM - Precision:', precision)\n",
    "print('GBM - Recall:', recall)\n",
    "print('GBM - F1-score:', f1)"
   ]
  },
  {
   "cell_type": "markdown",
   "id": "83624983",
   "metadata": {},
   "source": [
    "## •\tAdaBoost\n"
   ]
  },
  {
   "cell_type": "code",
   "execution_count": null,
   "id": "ceb3008e",
   "metadata": {},
   "outputs": [
    {
     "name": "stdout",
     "output_type": "stream",
     "text": [
      "AdaBoost - Accuracy: 0.7877094972067039\n",
      "AdaBoost - Precision: 0.7647058823529411\n",
      "AdaBoost - Recall: 0.7027027027027027\n",
      "AdaBoost - F1-score: 0.7323943661971832\n"
     ]
    }
   ],
   "source": [
    "adaboost = AdaBoostClassifier()\n",
    "adaboost.fit(X_train, y_train)\n",
    "adaboost_pred = adaboost.predict(X_test)\n",
    "\n",
    "accuracy = accuracy_score(y_test, adaboost_pred)\n",
    "precision = precision_score(y_test, adaboost_pred)\n",
    "recall = recall_score(y_test, adaboost_pred)\n",
    "f1 = f1_score(y_test, adaboost_pred)\n",
    "\n",
    "print('AdaBoost - Accuracy:', accuracy)\n",
    "print('AdaBoost - Precision:', precision)\n",
    "print('AdaBoost - Recall:', recall)\n",
    "print('AdaBoost - F1-score:', f1)"
   ]
  },
  {
   "cell_type": "markdown",
   "id": "61fabd04",
   "metadata": {},
   "source": [
    "## •\tNaive Bayes"
   ]
  },
  {
   "cell_type": "code",
   "execution_count": null,
   "id": "46987944",
   "metadata": {},
   "outputs": [
    {
     "name": "stdout",
     "output_type": "stream",
     "text": [
      "Naive Bayes - Accuracy: 0.770949720670391\n",
      "Naive Bayes - Precision: 0.72\n",
      "Naive Bayes - Recall: 0.7297297297297297\n",
      "Naive Bayes - F1-score: 0.7248322147651007\n"
     ]
    }
   ],
   "source": [
    "naive_bayes = GaussianNB()\n",
    "naive_bayes.fit(X_train, y_train)\n",
    "naive_bayes_pred = naive_bayes.predict(X_test)\n",
    "\n",
    "accuracy = accuracy_score(y_test, naive_bayes_pred)\n",
    "precision = precision_score(y_test, naive_bayes_pred)\n",
    "recall = recall_score(y_test, naive_bayes_pred)\n",
    "f1 = f1_score(y_test, naive_bayes_pred)\n",
    "\n",
    "print('Naive Bayes - Accuracy:', accuracy)\n",
    "print('Naive Bayes - Precision:', precision)\n",
    "print('Naive Bayes - Recall:', recall)\n",
    "print('Naive Bayes - F1-score:', f1)"
   ]
  },
  {
   "cell_type": "markdown",
   "id": "8fdefd73",
   "metadata": {},
   "source": [
    "# 4. Comparison and Analysis\n"
   ]
  },
  {
   "cell_type": "markdown",
   "id": "096efeef",
   "metadata": {},
   "source": [
    "### •\tCompare the performance of the models based on the computed metrics."
   ]
  },
  {
   "cell_type": "code",
   "execution_count": null,
   "id": "16d14889",
   "metadata": {},
   "outputs": [
    {
     "name": "stdout",
     "output_type": "stream",
     "text": [
      "                 Model  Accuracy  Precision    Recall  F1-score\n",
      "0        Random Forest  0.821229   0.791667  0.770270  0.780822\n",
      "1                  GBM  0.821229   0.818182  0.729730  0.771429\n",
      "2  Logistic Regression  0.793296   0.784615  0.689189  0.733813\n",
      "3             AdaBoost  0.787709   0.764706  0.702703  0.732394\n",
      "4          Naive Bayes  0.770950   0.720000  0.729730  0.724832\n",
      "5        Decision Tree  0.703911   0.636364  0.662162  0.649007\n",
      "6                  SVM  0.586592   0.000000  0.000000  0.000000\n",
      "7                  KNN  0.564246   0.458333  0.297297  0.360656\n"
     ]
    }
   ],
   "source": [
    "model_names = ['Logistic Regression', 'KNN', 'SVM', 'Decision Tree', 'Random Forest', 'GBM', 'AdaBoost', 'Naive Bayes']\n",
    "accuracies = []\n",
    "precisions = []\n",
    "recalls = []\n",
    "f1_scores = []\n",
    "\n",
    "\n",
    "for model, pred in zip([log_reg, knn, svc, decision_tree, random_forest, gbm, adaboost, naive_bayes],\n",
    "                       [log_reg_pred, knn_pred, svc_pred, decision_tree_pred, random_forest_pred, gbm_pred, adaboost_pred, naive_bayes_pred]):\n",
    "    accuracies.append(accuracy_score(y_test, pred))\n",
    "    precisions.append(precision_score(y_test, pred))\n",
    "    recalls.append(recall_score(y_test, pred))\n",
    "    f1_scores.append(f1_score(y_test, pred))\n",
    "\n",
    "summary_df = pd.DataFrame({'Model': model_names, 'Accuracy': accuracies, 'Precision': precisions,\n",
    "                           'Recall': recalls, 'F1-score': f1_scores})\n",
    "summary_df = summary_df.sort_values(by='Accuracy', ascending=False).reset_index(drop=True)\n",
    "\n",
    "print(summary_df)"
   ]
  },
  {
   "cell_type": "markdown",
   "id": "deaf3185",
   "metadata": {},
   "source": [
    "## •\tVisualizations: Create bar plots or line graphs illustrating the comparative performance."
   ]
  },
  {
   "cell_type": "code",
   "execution_count": null,
   "id": "16fac01e",
   "metadata": {},
   "outputs": [
    {
     "data": {
      "image/png": "[encoded data removed]",
      "text/plain": [
       "<Figure size 1500x1000 with 4 Axes>"
      ]
     },
     "metadata": {},
     "output_type": "display_data"
    }
   ],
   "source": [
    "# Create subplots for each metric\n",
    "plt.figure(figsize=(15, 10))\n",
    "\n",
    "# Accuracy\n",
    "plt.subplot(2, 2, 1)\n",
    "plt.bar(model_names, accuracies, color='skyblue')\n",
    "plt.title('Accuracy of Different Models')\n",
    "plt.xlabel('Model')\n",
    "plt.ylabel('Accuracy')\n",
    "plt.xticks(rotation=45)\n",
    "\n",
    "# Precision\n",
    "plt.subplot(2, 2, 2)\n",
    "plt.bar(model_names, precisions, color='lightgreen')\n",
    "plt.title('Precision of Different Models')\n",
    "plt.xlabel('Model')\n",
    "plt.ylabel('Precision')\n",
    "plt.xticks(rotation=45)\n",
    "\n",
    "# Recall\n",
    "plt.subplot(2, 2, 3)\n",
    "plt.bar(model_names, recalls, color='salmon')\n",
    "plt.title('Recall of Different Models')\n",
    "plt.xlabel('Model')\n",
    "plt.ylabel('Recall')\n",
    "plt.xticks(rotation=45)\n",
    "\n",
    "# F1-score\n",
    "plt.subplot(2, 2, 4)\n",
    "plt.bar(model_names, f1_scores, color='gold')\n",
    "plt.title('F1-score of Different Models')\n",
    "plt.xlabel('Model')\n",
    "plt.ylabel('F1-score')\n",
    "plt.xticks(rotation=45)\n",
    "\n",
    "plt.tight_layout()\n",
    "plt.show()"
   ]
  },
  {
   "cell_type": "markdown",
   "id": "308eb795",
   "metadata": {},
   "source": [
    "## We found that the Random Forest and GBM are best for this type of analysis"
   ]
  },
  {
   "cell_type": "code",
   "execution_count": null,
   "id": "6f75a7a8",
   "metadata": {},
   "outputs": [],
   "source": []
  }
 ],
 "metadata": {
  "kernelspec": {
   "display_name": "Python 3 (ipykernel)",
   "language": "python",
   "name": "python3"
  },
  "language_info": {
   "codemirror_mode": {
    "name": "ipython",
    "version": 3
   },
   "file_extension": ".py",
   "mimetype": "text/x-python",
   "name": "python",
   "nbconvert_exporter": "python",
   "pygments_lexer": "ipython3",
   "version": "3.11.9"
  }
 },
 "nbformat": 4,
 "nbformat_minor": 5
}
